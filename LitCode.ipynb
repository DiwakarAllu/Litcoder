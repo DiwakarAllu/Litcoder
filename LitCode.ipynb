{
 "cells": [
  {
   "cell_type": "markdown",
   "metadata": {},
   "source": [
    "#  **For CS - Module 1 - Lab 1 - Python**"
   ]
  },
  {
   "cell_type": "code",
   "execution_count": 6,
   "metadata": {},
   "outputs": [
    {
     "name": "stdout",
     "output_type": "stream",
     "text": [
      "7.692%\n",
      "66.667%\n",
      "7.692%\n",
      "17.949%\n"
     ]
    }
   ],
   "source": [
    "def analyze_string(email):\n",
    "    # Initialize counters for each category\n",
    "    uppercase_count = 0\n",
    "    lowercase_count = 0\n",
    "    digit_count = 0\n",
    "    other_count = 0\n",
    "    \n",
    "    # Define the total character count\n",
    "    total_count = len(email)\n",
    "    \n",
    "    # Iterate through each character in the string\n",
    "    for char in email:\n",
    "        if char.isupper():\n",
    "            uppercase_count += 1\n",
    "        elif char.islower():\n",
    "            lowercase_count += 1\n",
    "        elif char.isdigit():\n",
    "            digit_count += 1\n",
    "        else:\n",
    "            other_count += 1\n",
    "    \n",
    "    # Calculate percentages\n",
    "    uppercase_percentage = (uppercase_count / total_count) * 100\n",
    "    lowercase_percentage = (lowercase_count / total_count) * 100\n",
    "    digit_percentage = (digit_count / total_count) * 100\n",
    "    other_percentage = (other_count / total_count) * 100\n",
    "    \n",
    "    return {\n",
    "        \"Uppercase letters\": uppercase_percentage,\n",
    "        \"Lowercase letters\": lowercase_percentage,\n",
    "        \"Digits\": digit_percentage,\n",
    "        \"Other characters (symbols)\": other_percentage\n",
    "    }\n",
    "\n",
    "# Example usage:\n",
    "# email_address = \"My e-mail: eMail_Address321@anymail.com\"\n",
    "email_address = input()\n",
    "result = analyze_string(email_address)\n",
    "\n",
    "for category, percentage in result.items():\n",
    "    print(f\"{percentage:.3f}%\")\n"
   ]
  },
  {
   "cell_type": "code",
   "execution_count": 9,
   "metadata": {},
   "outputs": [
    {
     "name": "stdout",
     "output_type": "stream",
     "text": [
      "4\n"
     ]
    }
   ],
   "source": [
    "class ContiguousArray:\n",
    "    def findMaxLength(self, nums):\n",
    "        # Initialize variables\n",
    "        max_len = 0\n",
    "        count = 0\n",
    "        count_map = {0: -1}  # Store the first index where a count is encountered\n",
    "\n",
    "        for i in range(len(nums)):\n",
    "            # Update the count based on the current element (0 or 1)\n",
    "            if nums[i] == 0:\n",
    "                count -= 1\n",
    "            else:\n",
    "                count += 1\n",
    "\n",
    "            # Check if the current count has been encountered before\n",
    "            if count in count_map:\n",
    "                # Calculate the length of the current subarray\n",
    "                max_len = max(max_len, i - count_map[count])\n",
    "            else:\n",
    "                # Store the first occurrence of the count\n",
    "                count_map[count] = i\n",
    "\n",
    "        return max_len\n",
    "\n",
    "# Example usage:\n",
    "solution = ContiguousArray()\n",
    "nums=list(map(int,input().split()))\n",
    "max_length = solution.findMaxLength(nums)\n",
    "print(max_length)\n"
   ]
  },
  {
   "cell_type": "code",
   "execution_count": 12,
   "metadata": {},
   "outputs": [
    {
     "name": "stdout",
     "output_type": "stream",
     "text": [
      "2\n"
     ]
    }
   ],
   "source": [
    "def findMaxLength(nums):\n",
    "    # Initialize variables\n",
    "    max_len = 0\n",
    "    count = 0\n",
    "    count_map = {0: -1}  # Store the first index where a count is encountered\n",
    "\n",
    "    for i in range(len(nums)):\n",
    "        # Update the count based on the current element (0 or 1)\n",
    "        if nums[i] == 0:\n",
    "            count -= 1\n",
    "        else:\n",
    "            count += 1\n",
    "\n",
    "        # Check if the current count has been encountered before\n",
    "        if count in count_map:\n",
    "            # Calculate the length of the current subarray\n",
    "            max_len = max(max_len, i - count_map[count])\n",
    "        else:\n",
    "            # Store the first occurrence of the count\n",
    "            count_map[count] = i\n",
    "\n",
    "    return max_len\n",
    "\n",
    "# Example usage:\n",
    "nums = list(map(int, input().split()))\n",
    "max_length = findMaxLength(nums)\n",
    "print(max_length)"
   ]
  },
  {
   "cell_type": "markdown",
   "metadata": {},
   "source": [
    "#  **For CS - Module 1 - Lab 2 - Python**"
   ]
  },
  {
   "cell_type": "code",
   "execution_count": 3,
   "metadata": {},
   "outputs": [
    {
     "name": "stdout",
     "output_type": "stream",
     "text": [
      "YES\n"
     ]
    }
   ],
   "source": [
    "class Solution(object):\n",
    "    def isValidSudoku(self, board):\n",
    "        # Initialize an empty list to store elements of rows, columns, and 3x3 grids\n",
    "        res = []\n",
    "\n",
    "        # Iterate over the 9x9 board using nested loops\n",
    "        for i in range(n):\n",
    "            for j in range(n):\n",
    "                element = board[i][j]\n",
    "\n",
    "                # Check if the current cell is not empty (contains a number)\n",
    "                if element != '.':\n",
    "                    # Create three tuples and add them to the 'res' list:\n",
    "                    # 1. (row index, element)\n",
    "                    # 2. (element, column index)\n",
    "                    # 3. (grid index, element) - to represent elements within 3x3 grids\n",
    "                    res += [(i, element), (element, j), (i // 3, j // 3, element)]\n",
    "\n",
    "        # Check if the number of elements in 'res' is equal to the number of unique elements\n",
    "        # If they are equal, it means there are no duplicate elements in rows, columns, or grids.\n",
    "        return len(res) == len(set(res))\n",
    "\n",
    "# Create an instance of the Solution class\n",
    "solver = Solution()\n",
    "\n",
    "# Input: Get user input for the 9x9 Sudoku board\n",
    "n=int(input())\n",
    "# Initialize an empty 9x9 Sudoku board\n",
    "board = [[\".\"]*n for _ in range(n)]\n",
    "\n",
    "# Take user input for each cell in the Sudoku board\n",
    "for i in range(n):\n",
    "    for j in range(n):\n",
    "        board[i][j] = input(f\"Enter value for cell ({i+1}, {j+1}): \")\n",
    "# board =[\n",
    "#  [\"5\", \"3\", \".\", \".\", \"7\", \".\", \".\", \".\", \".\"]\n",
    "# ,[\"6\", \".\", \".\", \"1\", \"9\", \"5\", \".\", \".\", \".\"]\n",
    "# ,[\".\", \"9\", \"8\", \".\", \".\", \".\", \".\", \"6\", \".\"]\n",
    "# ,[\"8\", \".\", \".\", \".\", \"6\", \".\", \".\", \".\", \"3\"]\n",
    "# ,[\"4\", \".\", \".\", \"8\", \".\", \"3\", \".\", \".\", \"1\"]\n",
    "# ,[\"7\", \".\", \".\", \".\", \"2\", \".\", \".\", \".\", \"6\"]\n",
    "# ,[\".\", \"6\", \".\", \".\", \".\", \".\", \"2\", \"8\", \".\"]\n",
    "# ,[\".\", \".\", \".\", \"4\", \"1\", \"9\", \".\", \".\", \"5\"]\n",
    "# ,[\".\", \".\", \".\", \".\", \"8\", \".\", \".\", \"7\", \"9\"]]\n",
    "\n",
    "# Check the validity of the Sudoku board\n",
    "is_valid = solver.isValidSudoku(board)\n",
    "\n",
    "# Output: Display the result\n",
    "if is_valid:\n",
    "    print(\"YES\")\n",
    "else:\n",
    "    print(\"NO\")"
   ]
  },
  {
   "cell_type": "code",
   "execution_count": 1,
   "metadata": {},
   "outputs": [
    {
     "name": "stdout",
     "output_type": "stream",
     "text": [
      "Sudoku Board:\n",
      "5 3 . . 7 . . . .\n",
      "6 . . 1 9 5 . . .\n",
      ". 9 8 . . . . 6 .\n",
      "8 . . . 6 . . . 3\n",
      "4 . . 8 . 3 . . 1\n",
      "7 . . . 2 . . . 6\n",
      ". 6 . . . . 2 8 .\n",
      ". . . 4 1 9 . . 5\n",
      ". . . . 8 . . 7 9\n"
     ]
    }
   ],
   "source": [
    "n=int(input())\n",
    "# Initialize an empty 9x9 Sudoku board\n",
    "board = [[\".\"]*n for _ in range(n)]\n",
    "\n",
    "# Take user input for each cell in the Sudoku board\n",
    "for i in range(n):\n",
    "    for j in range(n):\n",
    "        board[i][j] = input(f\"Enter value for cell ({i+1}, {j+1}): \")\n",
    "\n",
    "# Display the input Sudoku board\n",
    "print(\"Sudoku Board:\")\n",
    "for row in board:\n",
    "    print(\" \".join(row))\n"
   ]
  },
  {
   "cell_type": "code",
   "execution_count": 3,
   "metadata": {},
   "outputs": [
    {
     "name": "stdout",
     "output_type": "stream",
     "text": [
      "14\n",
      "14\n"
     ]
    }
   ],
   "source": [
    "class QueueUsingTwoStacks:\n",
    "    def __init__(self):\n",
    "        self.out_stack = []  # Initialize the out stack for dequeuing\n",
    "        self.in_stack = []   # Initialize the in stack for enqueuing\n",
    "\n",
    "    def enqueue(self, value):\n",
    "        self.in_stack.append(value)  # Add an element to the in stack (enqueue)\n",
    "\n",
    "    def dequeue(self):\n",
    "        if not self.out_stack:\n",
    "            while self.in_stack:\n",
    "                self.out_stack.append(self.in_stack.pop())  # Transfer elements from in stack to out stack for dequeue\n",
    "        if self.out_stack:\n",
    "            return self.out_stack.pop()  # Return the front element from out stack if available\n",
    "        else:\n",
    "            return None  # Queue is empty\n",
    "\n",
    "    def peek(self):\n",
    "        if not self.out_stack:\n",
    "            while self.in_stack:\n",
    "                self.out_stack.append(self.in_stack.pop())  # Similar to dequeue, but keep the elements in out stack\n",
    "        if self.out_stack:\n",
    "            return self.out_stack[-1]  # Return the front element from out stack if available\n",
    "        else:\n",
    "            return self.in_stack[0] if self.in_stack else None # Return the front element from in stack, or None if both are empty\n",
    "\n",
    "def process_queue_commands(commands):\n",
    "    queue = QueueUsingTwoStacks()  # Create a new queue using two stacks\n",
    "    results = []  # Store the results of \"3\" commands\n",
    "\n",
    "    for command in commands:\n",
    "        parts = command.split()\n",
    "        operation = int(parts[0])\n",
    "\n",
    "        if operation == 1:\n",
    "            value = int(parts[1])\n",
    "            queue.enqueue(value)  # Enqueue operation\n",
    "        elif operation == 2:\n",
    "            queue.dequeue()  # Dequeue operation\n",
    "        elif operation == 3:\n",
    "            results.append(queue.peek())  # \"3\" command, peek at the front element\n",
    "\n",
    "    return results\n",
    "\n",
    "def main():\n",
    "    user_input = []\n",
    "    while True:\n",
    "        command = input(\"Enter a command (press Enter to finish): \")\n",
    "        if not command:\n",
    "            break\n",
    "        user_input.append(command)\n",
    "   \n",
    "\n",
    "    # input_arr = [\n",
    "    #     \"1 42\",\n",
    "    #     \"2\",\n",
    "    #     \"1 14\",\n",
    "    #     \"3\",\n",
    "    #     \"1 28\",\n",
    "    #     \"3\",\n",
    "    #     \"1 60\",\n",
    "    #     \"1 78\",\n",
    "    #     \"2\",\n",
    "    #     \"2\"\n",
    "    # ]\n",
    "    \n",
    "\n",
    "    results = process_queue_commands(user_input)\n",
    "\n",
    "    for result in results:\n",
    "        print(result)\n",
    "\n",
    "if __name__ == \"__main__\":\n",
    "    main()\n"
   ]
  },
  {
   "cell_type": "markdown",
   "metadata": {},
   "source": [
    "#  **For CS - Module 2 - Lab 1 - Python**"
   ]
  },
  {
   "cell_type": "code",
   "execution_count": 4,
   "metadata": {},
   "outputs": [
    {
     "name": "stdout",
     "output_type": "stream",
     "text": [
      "14\n",
      "14\n"
     ]
    }
   ],
   "source": [
    "class QueueWithTwoStacks:\n",
    "    def __init__(self):\n",
    "        self.enqueue_stack = []\n",
    "        self.dequeue_stack = []\n",
    "\n",
    "    def transfer_elements(self):\n",
    "        while self.enqueue_stack:\n",
    "            self.dequeue_stack.append(self.enqueue_stack.pop())\n",
    "\n",
    "    def enqueue(self, x):\n",
    "        self.enqueue_stack.append(x)\n",
    "\n",
    "    def dequeue(self):\n",
    "        if not self.dequeue_stack:\n",
    "            self.transfer_elements()\n",
    "        return self.dequeue_stack.pop()\n",
    "\n",
    "    def peek(self):\n",
    "        if not self.dequeue_stack:\n",
    "            self.transfer_elements()\n",
    "        return self.dequeue_stack[-1]\n",
    "\n",
    "# Read number of queries\n",
    "q = int(input())\n",
    "\n",
    "# Create a queue\n",
    "queue = QueueWithTwoStacks()\n",
    "\n",
    "# Process each query\n",
    "for _ in range(q):\n",
    "    query = input().split()\n",
    "    query_type = int(query[0])\n",
    "\n",
    "    if query_type == 1:\n",
    "        # Enqueue operation\n",
    "        x = int(query[1])\n",
    "        queue.enqueue(x)\n",
    "    elif query_type == 2:\n",
    "        # Dequeue operation\n",
    "        queue.dequeue()\n",
    "    elif query_type == 3:\n",
    "        # Print operation\n",
    "        print(queue.peek())"
   ]
  },
  {
   "cell_type": "code",
   "execution_count": 1,
   "metadata": {},
   "outputs": [],
   "source": [
    "\"\"\"\n",
    "Module-02 & Lab-01\n",
    "Problem: Simple Text Editor\n",
    "\"\"\"\n",
    "import sys\n",
    "class Editor:\n",
    "    \"\"\"A class that simulates a text editor.\n",
    "    Attributes:\n",
    "        arr(list): a list of strings representing text editor's buffer\"\"\"\n",
    "    # initialize an instance of Editor class    \n",
    "    def __init__(self):\n",
    "        self.arr=[\"\"]\n",
    "    # Insert a string into text editor's buffer'\n",
    "    def insert(self,string):\n",
    "        self.arr.append(self.arr[-1] + string)\n",
    "    # deletes the last k characters from the text editor's buffer\n",
    "    def delete(self,k):\n",
    "        if len(self.arr) < 2:\n",
    "            return\n",
    "        elif len(self.arr[-1]) < k:\n",
    "            self.arr.append(\"\")\n",
    "        else:\n",
    "            self.arr.append(self.arr[-1][:-k])\n",
    "    # prints the kth character of the last string        \n",
    "    def get(self,k):\n",
    "        if len(self.arr) < 2:\n",
    "            return\n",
    "        elif len(self.arr[-1]) < k:\n",
    "            return\n",
    "        else:\n",
    "            print(self.arr[-1][k-1])\n",
    "    # undo the last operation performed on the text editor's buffer.'        \n",
    "    def undo(self):\n",
    "        if len(self.arr) > 1:\n",
    "            self.arr.pop()\n",
    "        else:\n",
    "            return\n",
    "# instance for Editor class        \n",
    "editor = Editor()\n",
    "# user input\n",
    "operations = input().split(\",\")\n",
    "# performing operations based on user input\n",
    "for operation in operations:\n",
    "    # spliting operator fron operations\n",
    "    operator = operation.split(\" \")[0]\n",
    "    # if its 1 insert()\n",
    "    if operator == \"1\":\n",
    "        editor.insert(operation.split(\" \")[1])\n",
    "    # 2 for delete    \n",
    "    elif operator == \"2\":\n",
    "        editor.delete(int(operation.split(\" \")[1]))\n",
    "    # 3 for get function    \n",
    "    elif operator == \"3\":\n",
    "        editor.get(int(operation.split(\" \")[1]))\n",
    "    # 4 for undo function    \n",
    "    elif operator == \"4\":\n",
    "        editor.undo()\n",
    "print()"
   ]
  },
  {
   "cell_type": "code",
   "execution_count": 2,
   "metadata": {},
   "outputs": [
    {
     "name": "stdout",
     "output_type": "stream",
     "text": [
      "3\n"
     ]
    }
   ],
   "source": [
    "import sys\n",
    "\n",
    "def longestSubstring(s):\n",
    "    \"\"\"\n",
    "    Finds the length of the longest substring without repeating characters.\n",
    "    \n",
    "    Args:\n",
    "        s (str): The input string.\n",
    "        \n",
    "    Returns:\n",
    "        int: The length of the longest substring without repeating characters.\n",
    "    \"\"\"\n",
    "    lastIdx = {}\n",
    "    start = 0\n",
    "    longest = 0\n",
    "\n",
    "    for i in range(len(s)):\n",
    "        if s[i] in lastIdx:\n",
    "            start = max(start, lastIdx[s[i]] + 1)\n",
    "        lastIdx[s[i]] = i\n",
    "        longest = max(longest, i - start + 1)\n",
    "    \n",
    "    print(longest)\n",
    "\n",
    "\n",
    "\n",
    "string = input()\n",
    "longestSubstring(string)"
   ]
  }
 ],
 "metadata": {
  "kernelspec": {
   "display_name": "Python 3",
   "language": "python",
   "name": "python3"
  },
  "language_info": {
   "codemirror_mode": {
    "name": "ipython",
    "version": 3
   },
   "file_extension": ".py",
   "mimetype": "text/x-python",
   "name": "python",
   "nbconvert_exporter": "python",
   "pygments_lexer": "ipython3",
   "version": "3.11.5"
  },
  "orig_nbformat": 4,
  "vscode": {
   "interpreter": {
    "hash": "369f2c481f4da34e4445cda3fffd2e751bd1c4d706f27375911949ba6bb62e1c"
   }
  }
 },
 "nbformat": 4,
 "nbformat_minor": 2
}
